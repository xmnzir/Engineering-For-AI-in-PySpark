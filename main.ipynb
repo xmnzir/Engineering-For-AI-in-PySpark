{
  "cells": [
    {
      "cell_type": "markdown",
      "metadata": {
        "id": "_My7PTp9ctI6"
      },
      "source": [
        "# [CSC8101] Engineering for AI - 2025 Spark Coursework"
      ]
    },
    {
      "cell_type": "markdown",
      "metadata": {
        "id": "E8CE5AD6ctI8"
      },
      "source": [
        "## Coursework overview\n",
        "\n",
        "### Inputs\n",
        "\n",
        "- **NYC Taxi Trips dataset** - list of recorded taxi trips, each with several characteristics, namely: distance, number of passengers, origin zone, destination zone and trip cost (total amount charged to customer).\n",
        "- **NYC Zones dataset** - list of zones wherein trips can originate/terminate.\n",
        "\n",
        "### Tasks\n",
        "\n",
        "1. Data cleaning\n",
        "  1. Remove \"0 distance\" and 'no passengers' records.\n",
        "  2. Remove outlier records.\n",
        "2. Add new columns\n",
        "  1. Join with zones dataset\n",
        "  2. Compute the unit profitability of each trip\n",
        "3. Zone summarisation and ranking\n",
        "  1. Summarise trip data per zone\n",
        "  2. Obtain the top 10 ranks according to:\n",
        "    1. The total trip volume\n",
        "    2. Their average profitabilitiy\n",
        "    3. The total passenger volume\n",
        "4. Record the total and task-specific execution times for each dataset size and format.\n",
        "\n",
        "### How to\n",
        "\n",
        "###### Code structure and implementation\n",
        "\n",
        "- You must implement your solution to each task in the provided function code skeleton.\n",
        "- The task-specific functions are combined together to form the full pipeline code, executed last (do not modify this code).\n",
        "- Before implementing the specified function skeleton, you should develop and test your solution on separate code cells (create and destroy cells as needed).\n",
        "\n",
        "###### Development\n",
        "\n",
        "- Develop an initial working solution for the 'S' dataset and only then optimise it for larger dataset sizes.\n",
        "- To perform vectorised operations on a DataFrame:\n",
        "  - use the API docs to look for existing vectorised functions in: https://spark.apache.org/docs/latest/api/python/reference/pyspark.sql/functions.html\n",
        "  - if a customised function is required (e.g. to add a new column based on a linear combination of other columns), implement your own User Defined Function (UDF). See:  https://spark.apache.org/docs/latest/sql-ref-functions-udf-scalar.html\n",
        "- Use only the `pyspark.sql` API - documentation link below - (note that searching through the docs returns results from the `pyspark.sql` API together with the `pyspark.pandas` API):\n",
        "  - https://spark.apache.org/docs/latest/api/python/reference/pyspark.pandas/frame.html\n",
        "- Periodically download your notebook to your computer as backup and safety measure against accidental file deletion.\n",
        "\n",
        "###### Execution time measurement\n",
        "\n",
        "- Execution time is calculated and returned by the Spark Engine and shown in the output region of the cell.\n",
        "- To measure the execution time of a task you must perform a `collect` or similar operation (e.g. `take`) on the returned DataFrame."
      ]
    },
    {
      "cell_type": "markdown",
      "metadata": {
        "id": "CDUbnQ32nR8r"
      },
      "source": [
        "The following codeblock is used to mount the google colab instance to your google drive, in which we will be accessing the data provided in the course.\n"
      ]
    },
    {
      "cell_type": "code",
      "execution_count": 1,
      "metadata": {
        "colab": {
          "base_uri": "https://localhost:8080/"
        },
        "id": "Tm8yjI6Xl1NJ",
        "outputId": "58340625-ce4a-46c0-bb2e-0f52619f62a1"
      },
      "outputs": [
        {
          "output_type": "stream",
          "name": "stdout",
          "text": [
            "Drive already mounted at /content/drive; to attempt to forcibly remount, call drive.mount(\"/content/drive\", force_remount=True).\n"
          ]
        }
      ],
      "source": [
        "from google.colab import drive\n",
        "drive.mount('/content/drive')"
      ]
    },
    {
      "cell_type": "markdown",
      "metadata": {
        "id": "ZjXKIdU-ctI9"
      },
      "source": [
        "## Task 0 - Read data\n",
        "\n",
        "The code below is ready to run. **Do not modify this code**. It does the following:\n",
        "\n",
        "- Reads the 'zones' dataset into variable 'zone_names'\n",
        "- Defines the `init_trips` function that allows you to read the 'trips' dataset (from the DBFS FileStore) given the dataset size ('S' to 'XXL') as function argument\n",
        "- Defines the `pipeline` function, called in Task 4 to measure the execution time of the entire data processing pipeline\n",
        "- Shows you how to call the `init_trips` function and display dataset characteristics (number of rows, schema)"
      ]
    },
    {
      "cell_type": "markdown",
      "metadata": {
        "id": "Aoj5YWL1ctI9"
      },
      "source": []
    },
    {
      "cell_type": "code",
      "execution_count": 2,
      "metadata": {
        "colab": {
          "base_uri": "https://localhost:8080/"
        },
        "id": "f0ZI33j4u9Sv",
        "outputId": "f0527f16-91e8-4742-f373-f43def0aaf65"
      },
      "outputs": [
        {
          "output_type": "stream",
          "name": "stdout",
          "text": [
            "Requirement already satisfied: findspark in /usr/local/lib/python3.11/dist-packages (2.0.1)\n"
          ]
        }
      ],
      "source": [
        "pip install findspark"
      ]
    },
    {
      "cell_type": "code",
      "execution_count": 3,
      "metadata": {
        "id": "hZC-DreftHpQ"
      },
      "outputs": [],
      "source": [
        "## global imports\n",
        "import pyspark.sql as ps\n",
        "import pyspark.sql.functions as pf\n",
        "import pandas as pd\n",
        "import findspark\n",
        "findspark.init()\n",
        "from pyspark.sql import SparkSession\n",
        "spark = SparkSession.builder.master(\"local[*]\").getOrCreate()"
      ]
    },
    {
      "cell_type": "code",
      "execution_count": 4,
      "metadata": {
        "id": "suolqqpEctI9"
      },
      "outputs": [],
      "source": [
        "# Load zone names dataset - (much faster to read small file from git than dbfs)\n",
        "zones_file_url = 'https://raw.githubusercontent.com/NewcastleComputingScience/csc8101-coursework/main/02-assignment-spark/taxi_zone_names.csv'\n",
        "zone_names = spark.createDataFrame(pd.read_csv(zones_file_url))\n",
        "\n",
        "# Function to load trips dataset by selected dataset size\n",
        "def init_trips(size = 'S'):\n",
        "\n",
        "    files = {\n",
        "        'S'  : ['2021_07'],\n",
        "        'M'  : ['2021'],\n",
        "        'L'  : ['2020_21'],\n",
        "        'XL' : ['1_6_2019', '7_12_2019'],\n",
        "        'XXL': ['1_6_2019', '7_12_2019', '2020_21']\n",
        "    }\n",
        "\n",
        "    # validate input dataset size\n",
        "    if size not in files.keys():\n",
        "        print(\"Invalid input dataset size. Must be one of {}\".format(list(files.keys())))\n",
        "        return None\n",
        "\n",
        "    filenames = list(map(lambda s: f'/content/drive/MyDrive/CSC8101_Data/tripdata_{s}.parquet', files[size]))\n",
        "    trips_df = spark.read.parquet(filenames[0])\n",
        "\n",
        "    for name in filenames[1:]:\n",
        "        trips_df = trips_df.union(spark.read.parquet(name))\n",
        "\n",
        "\n",
        "    print(\n",
        "    \"\"\"\n",
        "    Trips dataset loaded!\n",
        "    ---\n",
        "      Size: {s}\n",
        "      Tables loaded: {ds}\n",
        "      Number of trips (dataset rows): {tc:,}\n",
        "    \"\"\".format(s = size, ds = filenames, tc = trips_df.count()))\n",
        "\n",
        "    return trips_df\n",
        "\n",
        "# helper function to print dataset row count\n",
        "def print_count(df):\n",
        "    print(\"Row count: {t:,}\".format(t = df.count()))\n",
        "\n",
        "def pipeline(trips_df, with_task_12 = False, zones_df = zone_names):\n",
        "    # Do not edit\n",
        "    #---\n",
        "\n",
        "    ## Task 1.1\n",
        "    _trips_11 = t11_remove_zeros(trips_df)\n",
        "\n",
        "    ## Task 1.2\n",
        "    if with_task_12:\n",
        "        _trips_12 = t12_remove_outliers(_trips_11)\n",
        "    else:\n",
        "        _trips_12 = _trips_11\n",
        "\n",
        "    ## Task 2.1\n",
        "    _trips_21 = t21_join_zones(_trips_12, zones_df = zone_names)\n",
        "\n",
        "    ## Task 2.2\n",
        "    _trips_22 = t22_calc_profit(_trips_21)\n",
        "\n",
        "    ## Task 3.1\n",
        "    _graph = t31_summarise_trips(_trips_22)\n",
        "\n",
        "    ## Task 3.2\n",
        "    _zones = t32_summarise_zones_pairs(_graph)\n",
        "\n",
        "    _top10_trips     = t32_top10_trips(_zones)\n",
        "    _top10_profit    = t32_top10_profit(_zones)\n",
        "    _top10_passenger = t32_top10_passenger(_zones)\n",
        "\n",
        "    return([_top10_trips, _top10_profit, _top10_passenger])"
      ]
    },
    {
      "cell_type": "code",
      "execution_count": 5,
      "metadata": {
        "colab": {
          "base_uri": "https://localhost:8080/"
        },
        "id": "DXOjNYDrctI-",
        "outputId": "2fccd1af-635a-425c-91d0-1b61ae2bd04c"
      },
      "outputs": [
        {
          "output_type": "stream",
          "name": "stdout",
          "text": [
            "\n",
            "    Trips dataset loaded!\n",
            "    ---\n",
            "      Size: M\n",
            "      Tables loaded: ['/content/drive/MyDrive/CSC8101_Data/tripdata_2021.parquet']\n",
            "      Number of trips (dataset rows): 15,571,166\n",
            "    \n"
          ]
        }
      ],
      "source": [
        "# CHANGE the value of argument 'size' to record the pipeline execution times for increasing dataset sizes\n",
        "SIZE = 'M'\n",
        "\n",
        "\n",
        "# Load trips dataset\n",
        "trips = init_trips(SIZE)\n",
        "\n",
        "# uncomment line only for small datasets\n",
        "#trips.take(1)"
      ]
    },
    {
      "cell_type": "code",
      "execution_count": 6,
      "metadata": {
        "colab": {
          "base_uri": "https://localhost:8080/"
        },
        "id": "aFkfObE0ctI-",
        "outputId": "c4ad25bb-1030-4787-c5e4-9666a917a82b"
      },
      "outputs": [
        {
          "output_type": "stream",
          "name": "stdout",
          "text": [
            "Row count: 15,571,166\n"
          ]
        }
      ],
      "source": [
        "print_count(trips)"
      ]
    },
    {
      "cell_type": "code",
      "execution_count": 7,
      "metadata": {
        "colab": {
          "base_uri": "https://localhost:8080/"
        },
        "id": "VlK_jzthctI-",
        "outputId": "2c3b2468-f86e-4ef2-ff52-7d87dfea7def"
      },
      "outputs": [
        {
          "output_type": "stream",
          "name": "stdout",
          "text": [
            "root\n",
            " |-- index: long (nullable = true)\n",
            " |-- VendorID: double (nullable = true)\n",
            " |-- tpep_pickup_datetime: string (nullable = true)\n",
            " |-- tpep_dropoff_datetime: string (nullable = true)\n",
            " |-- passenger_count: double (nullable = true)\n",
            " |-- trip_distance: double (nullable = true)\n",
            " |-- RatecodeID: double (nullable = true)\n",
            " |-- store_and_fwd_flag: string (nullable = true)\n",
            " |-- PULocationID: long (nullable = true)\n",
            " |-- DOLocationID: long (nullable = true)\n",
            " |-- payment_type: double (nullable = true)\n",
            " |-- fare_amount: double (nullable = true)\n",
            " |-- extra: double (nullable = true)\n",
            " |-- mta_tax: double (nullable = true)\n",
            " |-- tip_amount: double (nullable = true)\n",
            " |-- tolls_amount: double (nullable = true)\n",
            " |-- improvement_surcharge: double (nullable = true)\n",
            " |-- total_amount: double (nullable = true)\n",
            " |-- congestion_surcharge: double (nullable = true)\n",
            " |-- cab_type: string (nullable = true)\n",
            " |-- lpep_pickup_datetime: string (nullable = true)\n",
            " |-- lpep_dropoff_datetime: string (nullable = true)\n",
            " |-- ehail_fee: double (nullable = true)\n",
            " |-- trip_type: double (nullable = true)\n",
            "\n"
          ]
        }
      ],
      "source": [
        "# dataset schemas\n",
        "trips.printSchema()"
      ]
    },
    {
      "cell_type": "code",
      "execution_count": 8,
      "metadata": {
        "colab": {
          "base_uri": "https://localhost:8080/",
          "height": 0
        },
        "id": "H-wg8TN7ctI_",
        "outputId": "457e0d1f-6ba3-4d83-c8e8-186684cf7063"
      },
      "outputs": [
        {
          "output_type": "display_data",
          "data": {
            "text/plain": [
              "[Row(PULocationID=142, DOLocationID=43, trip_distance=2.1, passenger_count=1.0, total_amount=11.8),\n",
              " Row(PULocationID=238, DOLocationID=151, trip_distance=0.2, passenger_count=1.0, total_amount=4.3),\n",
              " Row(PULocationID=132, DOLocationID=165, trip_distance=14.7, passenger_count=1.0, total_amount=51.95),\n",
              " Row(PULocationID=138, DOLocationID=132, trip_distance=10.6, passenger_count=0.0, total_amount=36.35),\n",
              " Row(PULocationID=68, DOLocationID=33, trip_distance=4.94, passenger_count=1.0, total_amount=24.36)]"
            ]
          },
          "metadata": {}
        }
      ],
      "source": [
        "display(trips[['PULocationID', 'DOLocationID', 'trip_distance', 'passenger_count', 'total_amount']].take(5))"
      ]
    },
    {
      "cell_type": "code",
      "execution_count": 9,
      "metadata": {
        "colab": {
          "base_uri": "https://localhost:8080/"
        },
        "id": "5M0rcWtDctI_",
        "outputId": "d70d62a0-1773-40be-edb8-f6e9fe479a33"
      },
      "outputs": [
        {
          "output_type": "stream",
          "name": "stdout",
          "text": [
            "root\n",
            " |-- LocationID: long (nullable = true)\n",
            " |-- Borough: string (nullable = true)\n",
            " |-- Zone: string (nullable = true)\n",
            " |-- service_zone: string (nullable = true)\n",
            "\n"
          ]
        }
      ],
      "source": [
        "zone_names.printSchema()"
      ]
    },
    {
      "cell_type": "code",
      "execution_count": 10,
      "metadata": {
        "colab": {
          "base_uri": "https://localhost:8080/",
          "height": 0
        },
        "id": "MnBRw7MZctI_",
        "outputId": "995404d8-f55a-429c-a3d6-f51322301cbe"
      },
      "outputs": [
        {
          "output_type": "display_data",
          "data": {
            "text/plain": [
              "[Row(LocationID=1, Borough='EWR', Zone='Newark Airport', service_zone='EWR'),\n",
              " Row(LocationID=2, Borough='Queens', Zone='Jamaica Bay', service_zone='Boro Zone'),\n",
              " Row(LocationID=3, Borough='Bronx', Zone='Allerton/Pelham Gardens', service_zone='Boro Zone'),\n",
              " Row(LocationID=4, Borough='Manhattan', Zone='Alphabet City', service_zone='Yellow Zone'),\n",
              " Row(LocationID=5, Borough='Staten Island', Zone='Arden Heights', service_zone='Boro Zone')]"
            ]
          },
          "metadata": {}
        }
      ],
      "source": [
        "display(zone_names.take(5))"
      ]
    },
    {
      "cell_type": "markdown",
      "metadata": {
        "id": "pAiqa60IctI_"
      },
      "source": [
        "## Task 1 - Filter rows\n",
        "\n",
        "**Input:** trips dataset\n",
        "\n",
        "### Task 1.1 - Remove \"0 distance\" and 'no passengers' records\n",
        "\n",
        "Remove dataset rows that represent invalid trips:\n",
        "\n",
        "- Trips where `trip_distance == 0` (no distance travelled)\n",
        "- Trips where `passenger_count == 0` and `total_amount == 0` (we want to retain records where `total_amount` > 0 - these may be significant as the taxi may have carried some parcel, for example)\n",
        "\n",
        "Altogether, a record is removed if it satisfies the following conditions:\n",
        "\n",
        "`trip_distance == 0` or `(passenger_count == 0` and `total_amount == 0)`.\n",
        "\n",
        "**Recommended:** Select only the relevant dataset columns for this and subsequent tasks: `['PULocationID', 'DOLocationID', 'trip_distance', 'passenger_count', 'total_amount')]`\n",
        "\n",
        "### Task 1.2 - Remove outliers using the modified z-score\n",
        "\n",
        "Despite having removed spurious \"zero passengers\" trips in task 1.1, columns `total_amount` and `trip_distance` contain additional outlier values that must be identified and removed.\n",
        "\n",
        "To identify and remove outliers, you will use the modified [z-score](https://en.wikipedia.org/wiki/Standard_score) method.\n",
        "The modified z-score uses the median and [Median Absolute Deviation](https://en.wikipedia.org/wiki/Median_absolute_deviation) (MAD), instead of the mean and standard deviation, to determine how far an observation (indexed by i) is from the mean:\n",
        "\n",
        "$$z_i = \\frac{x_i - \\mathit{median}(\\mathbf{x})}{\\mathbf{MAD}},$$\n",
        "\n",
        "where x represents the input vector, xi is an element of x and zi is its corresponding z-score. In turn, the MAD formula is:\n",
        "\n",
        "$$\\mathbf{MAD} = 1.483 * \\mathit{median}(\\big\\lvert x_i - \\mathit{median}(\\mathbf{x})\\big\\rvert).$$\n",
        "\n",
        "Observations with **high** (absolute) z-score are considered outlier observations. A score is considered **high** if its __absolute z-score__ is larger than a threshold T = 3.5:\n",
        "\n",
        "$$\\big\\lvert z_i \\big\\rvert > 3.5.$$\n",
        "\n",
        "where T represents the number of unit standard deviations beyond which a score is considered an outlier ([wiki](https://en.wikipedia.org/wiki/68%E2%80%9395%E2%80%9399.7_rule)).\n",
        "\n",
        "This process is repeated twice, once for each of the columns `total_amount` and `trip_distance` (in any order).\n",
        "\n",
        "**Important:** Use the surrogate function [`percentile_approx`](https://spark.apache.org/docs/3.2.0/api/python/reference/api/pyspark.sql.functions.percentile_approx.html?highlight=percentile#pyspark.sql.functions.percentile_approx) to estimate the median (calculating the median values for a column is expensive as it cannot be parallelised efficiently)."
      ]
    },
    {
      "cell_type": "markdown",
      "metadata": {
        "id": "GBOWmStcBybR"
      },
      "source": [
        "**The Solution For Task 1.1**"
      ]
    },
    {
      "cell_type": "code",
      "execution_count": 11,
      "metadata": {
        "id": "zRsDFQEpctI_"
      },
      "outputs": [],
      "source": [
        "\n",
        "from pyspark.sql import functions as F\n",
        "\n",
        "def t11_remove_zeros(df):\n",
        "    df_filtered = df.filter(\n",
        "        (F.col(\"trip_distance\") > 0) &\n",
        "        ~((F.col(\"passenger_count\") == 0) & (F.col(\"total_amount\") == 0))\n",
        "    )\n",
        "    return df_filtered\n"
      ]
    },
    {
      "cell_type": "code",
      "execution_count": 12,
      "metadata": {
        "colab": {
          "base_uri": "https://localhost:8080/"
        },
        "id": "_NE09_DTctJA",
        "outputId": "8897822c-fb46-41c8-a30a-b9feacb4e1b5"
      },
      "outputs": [
        {
          "output_type": "stream",
          "name": "stdout",
          "text": [
            "Row count: 15,350,075\n"
          ]
        }
      ],
      "source": [
        "# execute task 1.1\n",
        "trips_11 = t11_remove_zeros(trips)\n",
        "\n",
        "print_count(trips_11)\n",
        "\n",
        "## uncomment only for smaller datasets\n",
        "#display(trips_11.take(10))"
      ]
    },
    {
      "cell_type": "markdown",
      "metadata": {
        "id": "9PXgxKibB5dI"
      },
      "source": [
        "**The Solution For Task 1.2**"
      ]
    },
    {
      "cell_type": "code",
      "execution_count": 13,
      "metadata": {
        "id": "ZhejsBYActJA"
      },
      "outputs": [],
      "source": [
        "from pyspark.sql import functions as F\n",
        "\n",
        "def t12_remove_outliers(df):\n",
        "    #Using percentile_approx , Compute the median values for trip_distance and total_amount\n",
        "    median_values = df.select(\n",
        "        F.percentile_approx(\"trip_distance\", 0.5).alias(\"median_td\"),\n",
        "        F.percentile_approx(\"total_amount\", 0.5).alias(\"median_ta\")\n",
        "    ).collect()[0]\n",
        "\n",
        "    # Extract the computed median values\n",
        "    median_td, median_ta = median_values[\"median_td\"], median_values[\"median_ta\"]\n",
        "\n",
        "    #Compute the Median Absolute Deviation (MAD) for both columns\n",
        "    df_mad = df.withColumn(\"dev_td\", F.abs(F.col(\"trip_distance\") - median_td)) \\\n",
        "               .withColumn(\"dev_ta\", F.abs(F.col(\"total_amount\") - median_ta))\n",
        "\n",
        "    # Calculate MAD for each column using percentile_approx\n",
        "    mad_values = df_mad.select(\n",
        "        (1.483 * F.percentile_approx(\"dev_td\", 0.5)).alias(\"mad_td\"),\n",
        "        (1.483 * F.percentile_approx(\"dev_ta\", 0.5)).alias(\"mad_ta\")\n",
        "    ).collect()[0]\n",
        "\n",
        "    # Extract the computed MAD values\n",
        "    mad_td, mad_ta = mad_values[\"mad_td\"], mad_values[\"mad_ta\"]\n",
        "\n",
        "    # Outlier filtering using Modified Z-Score with threshold larger than 3.5\n",
        "    df_filtered = df.withColumn(\"z_score_td\", (F.col(\"trip_distance\") - median_td) / mad_td) \\\n",
        "                    .withColumn(\"z_score_ta\", (F.col(\"total_amount\") - median_ta) / mad_ta) \\\n",
        "                    .filter((F.abs(F.col(\"z_score_td\")) <= 3.5) & (F.abs(F.col(\"z_score_ta\")) <= 3.5))\n",
        "\n",
        "    # Drop the Z-score columns after filtering\n",
        "    df_filtered = df_filtered.drop(\"z_score_td\", \"z_score_ta\")\n",
        "\n",
        "    # Return the filtered DataFrame with outliers removed\n",
        "    return df_filtered\n"
      ]
    },
    {
      "cell_type": "code",
      "execution_count": 14,
      "metadata": {
        "colab": {
          "base_uri": "https://localhost:8080/"
        },
        "id": "yPLMX61mctJA",
        "outputId": "bf226f6f-72af-4c27-eb12-965f65c7d19d"
      },
      "outputs": [
        {
          "output_type": "stream",
          "name": "stdout",
          "text": [
            "Row count: 13,526,180\n"
          ]
        }
      ],
      "source": [
        "# execute task 1.2\n",
        "trips_12 = t12_remove_outliers(trips_11)\n",
        "\n",
        "print_count(trips_12)\n",
        "#display(trips_12.take(10))"
      ]
    },
    {
      "cell_type": "markdown",
      "metadata": {
        "id": "mrw3DzARctJA"
      },
      "source": [
        "## Task 2 - Compute new columns\n",
        "\n",
        "### Task 2.1 - Zone names\n",
        "\n",
        "Obtain the **start** and **end** zone names of each trip by joining the `trips` and `zone_names` datasets (i.e. by using the `zone_names` dataset as lookup table).\n",
        "\n",
        "**Note:** The columns containing the start and end zone ids of each trip are named `PULocationID` and `DOLocationID`, respectively.\n",
        "\n",
        "### Task 2.2 - Unit profitability\n",
        "\n",
        "Compute the column `unit_profitabilty = total_amount / trip_distance`."
      ]
    },
    {
      "cell_type": "markdown",
      "metadata": {
        "id": "nvKR3xjEDfpG"
      },
      "source": [
        "**The Solution for Task 2.1**"
      ]
    },
    {
      "cell_type": "code",
      "execution_count": 15,
      "metadata": {
        "id": "75nNlOd8ctJA"
      },
      "outputs": [],
      "source": [
        "\n",
        "\n",
        "def t21_join_zones(df, zones_df=zone_names):\n",
        "\n",
        "    # Renaming Zones to Prevent ambiguity\n",
        "\n",
        "    zones_pu = zones_df.withColumnRenamed(\"Zone\", \"PUZone\").withColumnRenamed(\"LocationID\", \"PULocationID\")\n",
        "    zones_do = zones_df.withColumnRenamed(\"Zone\", \"DOZone\").withColumnRenamed(\"LocationID\", \"DOLocationID\")\n",
        "\n",
        "    # Joining Zones\n",
        "    df = df.join(zones_pu, on=\"PULocationID\", how=\"left\")\n",
        "    df = df.join(zones_do, on=\"DOLocationID\", how=\"left\")\n",
        "    return df\n"
      ]
    },
    {
      "cell_type": "code",
      "execution_count": 16,
      "metadata": {
        "colab": {
          "base_uri": "https://localhost:8080/"
        },
        "id": "rph4vUGuctJA",
        "outputId": "1d6e129a-c7f5-4b6e-b417-13b803f2b24f"
      },
      "outputs": [
        {
          "output_type": "stream",
          "name": "stdout",
          "text": [
            "Row count: 13,526,180\n"
          ]
        }
      ],
      "source": [
        "# execute task 2.1\n",
        "\n",
        "\n",
        "#Joining The Trips and Zone Names\n",
        "trips_21 = t21_join_zones(trips_12, zones_df = zone_names)\n",
        "\n",
        "print_count(trips_21)\n",
        "#display(trips_21.take(10))"
      ]
    },
    {
      "cell_type": "markdown",
      "metadata": {
        "id": "dj94tntJDm5w"
      },
      "source": [
        "**The Solution for Task 2.2**"
      ]
    },
    {
      "cell_type": "code",
      "execution_count": 17,
      "metadata": {
        "id": "3lfhUQ9NctJA"
      },
      "outputs": [],
      "source": [
        "\n",
        "from pyspark.sql.functions import col\n",
        "\n",
        "def t22_calc_profit(df):\n",
        "    # Calculating unit_profitability = total_amount / trip_distance\n",
        "    df = df.withColumn(\"unit_profitability\", col(\"total_amount\") / col(\"trip_distance\"))\n",
        "    return df\n"
      ]
    },
    {
      "cell_type": "code",
      "execution_count": 18,
      "metadata": {
        "colab": {
          "base_uri": "https://localhost:8080/"
        },
        "id": "-x4eqJjxctJA",
        "outputId": "ad9aa6a9-562a-4234-e644-d17f267e617f"
      },
      "outputs": [
        {
          "output_type": "stream",
          "name": "stdout",
          "text": [
            "Row count: 13,526,180\n"
          ]
        }
      ],
      "source": [
        "# execute task 2.2\n",
        "trips_22 = t22_calc_profit(trips_21)\n",
        "\n",
        "print_count(trips_22)\n",
        "#display(trips_22.take(10))"
      ]
    },
    {
      "cell_type": "markdown",
      "metadata": {
        "id": "uLWV8gsVctJA"
      },
      "source": [
        "## Task 3: Rank zones by traffic, passenger volume and profitability\n",
        "\n",
        "### 3.1 - Summarise interzonal travel\n",
        "\n",
        "Build a graph data structure of zone-to-zone traffic, representing aggregated data about trips between any two zones. The graph will have one node for each zone and one edge connecting each pair of zones. In addition, edges contain aggregate information about all trips between those zones.\n",
        "\n",
        "For example, zones Z1 and Z2 are connected by *two* edges: edge Z1 --> Z2 carries aggregate data about all trips that originated in Z1 and ended in Z2, and edge Z2 --> Z2 carries aggregate data about all trips that originated in Z2 and ended in Z1.\n",
        "\n",
        "The aggregate information of interzonal travel must include the following data:\n",
        "\n",
        "- `average_unit_profit` - the average unit profitability (calculated as `mean(unit_profitabilty)`).\n",
        "- `trips_count` -- the total number of recorded trips.\n",
        "- `total_passengers` -- the total number of passenger across all trips (sum of `passenger_count`).\n",
        "\n",
        "This graph can be represented as a new dataframe, with schema:\n",
        "\n",
        "\\[`PULocationID`, `DOLocationID`, `average_unit_profit`, `trips_count`, `total_passengers` \\]\n",
        "\n",
        "__hint__: the `groupby()` operator produces a `pyspark.sql.GroupedData` structure. You can then calculate multiple aggregations from this using `pyspark.sql.GroupedData.agg()`:\n",
        "- https://spark.apache.org/docs/3.2.0/api/python/reference/pyspark.pandas/api/pyspark.pandas.DataFrame.groupby.html\n",
        "- https://spark.apache.org/docs/3.2.0/api/python/reference/api/pyspark.sql.GroupedData.agg.html\n",
        "\n",
        "### Task 3.2 - Obtain top-10 zones\n",
        "\n",
        "For each of the following measures, report the top-10 zones _using their plain names you dereferenced in the previous step, not the codes_. Note that this requires ranking the nodes in different orders. Specifically, you need to calculate the following further aggregations:\n",
        "\n",
        "- the **total** number of trips originating from Z. This is simply the sum of `trips_count` over all outgoing edges for Z, i.e., edges of the form Z -> \\*\n",
        "- the **average** profitability of a zone. This is the average of all `average_unit_profit` over all *outgoing* edges from Z.\n",
        "- The **total** passenger volume measured as the **sum** of `total_passengers` carried in trips that originate from Z"
      ]
    },
    {
      "cell_type": "markdown",
      "metadata": {
        "id": "met9DMJTjgFN"
      },
      "source": [
        "**The Solution for Task 3.1**"
      ]
    },
    {
      "cell_type": "code",
      "execution_count": 19,
      "metadata": {
        "id": "KctKEwu5ctJA"
      },
      "outputs": [],
      "source": [
        "from pyspark.sql.functions import avg, sum, count, coalesce, lit\n",
        "\n",
        "def t31_summarise_trips(df):\n",
        "\n",
        "    # Pairing Data by Pickup and Drop Off Location ID's\n",
        "    df_summary = df.groupBy(\"PULocationID\", \"DOLocationID\").agg(\n",
        "\n",
        "        #Calculate Average profit of a unit\n",
        "        avg(coalesce(\"unit_profitability\", lit(0))).alias(\"average_unit_profit\"),\n",
        "\n",
        "        # Total No of trips in a Zone\n",
        "        count(\"*\").alias(\"trips_count\"),\n",
        "\n",
        "        # Sum of total passengers\n",
        "        sum(\"passenger_count\").alias(\"total_passengers\")\n",
        "\n",
        "    ).select(\n",
        "        # The Dataframe Structure as mentioned above\n",
        "        \"PULocationID\",\n",
        "        \"DOLocationID\",\n",
        "        \"average_unit_profit\",\n",
        "        \"trips_count\",\n",
        "        \"total_passengers\"\n",
        "    )\n",
        "\n",
        "    return df_summary\n"
      ]
    },
    {
      "cell_type": "code",
      "execution_count": 20,
      "metadata": {
        "colab": {
          "base_uri": "https://localhost:8080/"
        },
        "id": "tAsNBMRActJA",
        "outputId": "e2c86d2c-cd9e-4151-b667-15aaa615d04d"
      },
      "outputs": [
        {
          "output_type": "stream",
          "name": "stdout",
          "text": [
            "Row count: 16,992\n"
          ]
        }
      ],
      "source": [
        "# execute task 3.1\n",
        "\n",
        "#Interzonal Travel Data\n",
        "graph = t31_summarise_trips(trips_22)\n",
        "\n",
        "print_count(graph)\n",
        "#display(graph.take(10))"
      ]
    },
    {
      "cell_type": "markdown",
      "metadata": {
        "id": "oTEi58Lgjk4F"
      },
      "source": [
        "**The Solution for Task 3.2**"
      ]
    },
    {
      "cell_type": "code",
      "execution_count": 21,
      "metadata": {
        "id": "9ezqisgfctJA"
      },
      "outputs": [],
      "source": [
        "from pyspark.sql.functions import avg, sum, desc, broadcast, coalesce, lit\n",
        "\n",
        "\n",
        "def t32_summarise_zones_pairs(df, zones_df=zone_names):\n",
        "    # Aggregate data per origin zone\n",
        "    zones_summary = df.groupBy(\"PULocationID\").agg(\n",
        "        sum(\"trips_count\").alias(\"total_trips\"),  # Total trips outgoing\n",
        "        avg(coalesce(\"average_unit_profit\", lit(0))).alias(\"average_profitability\"),  # Average profit\n",
        "        sum(\"total_passengers\").alias(\"total_passengers\")  # Total number of passengers outgoing\n",
        "    )\n",
        "\n",
        "    # Broadcasting to optimize perfomance\n",
        "    zones_df = broadcast(zones_df)\n",
        "\n",
        "    # Keeping an plain name alias\n",
        "    zones_df = zones_df.withColumnRenamed(\"Zone\", \"zone_name\")\n",
        "\n",
        "    # Joining Zone Summary and Zone df Dataframes\n",
        "\n",
        "    return zones_summary.join(\n",
        "        zones_df, zones_summary.PULocationID == zones_df.LocationID, \"left\"\n",
        "    ).select(\n",
        "        \"zone_name\",  # Zone_name selected\n",
        "        \"total_trips\",\n",
        "        \"average_profitability\",\n",
        "        \"total_passengers\"\n",
        "    )\n",
        "\n",
        "\n",
        "#Below Functions gives the top 10 Trips, Profits and passenger.\n",
        "\n",
        "def t32_top10_trips(df_zones):\n",
        "    return df_zones.orderBy(desc(\"total_trips\")).limit(10)\n",
        "\n",
        "def t32_top10_profit(df_zones):\n",
        "    return df_zones.orderBy(desc(\"average_profitability\")).limit(10)\n",
        "\n",
        "def t32_top10_passenger(df_zones):\n",
        "    return df_zones.orderBy(desc(\"total_passengers\")).limit(10)\n"
      ]
    },
    {
      "cell_type": "code",
      "execution_count": 22,
      "metadata": {
        "id": "yvHt4_lTctJB"
      },
      "outputs": [],
      "source": [
        "# execute task 3.2\n",
        "zones = t32_summarise_zones_pairs(graph)\n",
        "\n",
        "top10_trips     = t32_top10_trips(zones)\n",
        "top10_profit    = t32_top10_profit(zones)\n",
        "top10_passenger = t32_top10_passenger(zones)"
      ]
    },
    {
      "cell_type": "markdown",
      "metadata": {
        "id": "nsDFx4mimRao"
      },
      "source": [
        "**Confirming the DataFrames for each function**"
      ]
    },
    {
      "cell_type": "code",
      "execution_count": 23,
      "metadata": {
        "colab": {
          "base_uri": "https://localhost:8080/"
        },
        "id": "dvhzlqPkctJB",
        "outputId": "9594a6bf-eed0-40d5-fc59-260f8cd939fa"
      },
      "outputs": [
        {
          "output_type": "execute_result",
          "data": {
            "text/plain": [
              "DataFrame[zone_name: string, total_trips: bigint, average_profitability: double, total_passengers: double]"
            ]
          },
          "metadata": {},
          "execution_count": 23
        }
      ],
      "source": [
        "\n",
        "top10_trips"
      ]
    },
    {
      "cell_type": "code",
      "execution_count": 24,
      "metadata": {
        "colab": {
          "base_uri": "https://localhost:8080/"
        },
        "id": "WCNyq9kactJB",
        "outputId": "6df77e3b-d891-4fd5-aa94-e2ec9b4381b5"
      },
      "outputs": [
        {
          "output_type": "execute_result",
          "data": {
            "text/plain": [
              "DataFrame[zone_name: string, total_trips: bigint, average_profitability: double, total_passengers: double]"
            ]
          },
          "metadata": {},
          "execution_count": 24
        }
      ],
      "source": [
        "\n",
        "top10_profit"
      ]
    },
    {
      "cell_type": "code",
      "execution_count": 25,
      "metadata": {
        "colab": {
          "base_uri": "https://localhost:8080/"
        },
        "id": "0WME4wKBctJB",
        "outputId": "eba58212-d7b7-4fae-8e67-abc98594386b"
      },
      "outputs": [
        {
          "output_type": "execute_result",
          "data": {
            "text/plain": [
              "DataFrame[zone_name: string, total_trips: bigint, average_profitability: double, total_passengers: double]"
            ]
          },
          "metadata": {},
          "execution_count": 25
        }
      ],
      "source": [
        "\n",
        "top10_passenger"
      ]
    },
    {
      "cell_type": "code",
      "execution_count": 26,
      "metadata": {
        "colab": {
          "base_uri": "https://localhost:8080/"
        },
        "id": "pGruES5jKSDB",
        "outputId": "698dc270-a62e-4c37-cf78-533fc93e38a4"
      },
      "outputs": [
        {
          "output_type": "stream",
          "name": "stdout",
          "text": [
            "+--------------------+-----------+---------------------+----------------+\n",
            "|           zone_name|total_trips|average_profitability|total_passengers|\n",
            "+--------------------+-----------+---------------------+----------------+\n",
            "|Upper East Side S...|     749215|     7.63455343885513|       1037367.0|\n",
            "|Upper East Side N...|     704371|    8.839806190981518|        975535.0|\n",
            "|      Midtown Center|     474160|    7.375739609814177|        656996.0|\n",
            "|Penn Station/Madi...|     464961|    8.155738187542173|        642642.0|\n",
            "| Lincoln Square East|     453312|    8.789427794102219|        635902.0|\n",
            "|Upper West Side S...|     451048|    7.447587585125748|        636591.0|\n",
            "|         Murray Hill|     446683|   7.7410714721550455|        612601.0|\n",
            "|     Lenox Hill West|     444636|   6.8301007888454315|        614478.0|\n",
            "|        Midtown East|     424232|    8.541049404209726|        581892.0|\n",
            "|            Union Sq|     381578|    12.86245091660277|        532751.0|\n",
            "+--------------------+-----------+---------------------+----------------+\n",
            "\n",
            "+--------------------+-----------+---------------------+----------------+\n",
            "|           zone_name|total_trips|average_profitability|total_passengers|\n",
            "+--------------------+-----------+---------------------+----------------+\n",
            "|     Mariners Harbor|         11|    170.0019671325217|             3.0|\n",
            "|Bay Terrace/Fort ...|        284|   169.96287173378553|            36.0|\n",
            "|       East Flushing|        182|   116.01215927590331|            21.0|\n",
            "|   Rossville/Woodrow|          3|             111.5625|             1.0|\n",
            "|      Newark Airport|         29|    94.13326589536474|            43.0|\n",
            "|       West Brighton|          4|    87.37120340543028|             6.0|\n",
            "|     Jamaica Estates|       1451|    79.79217152698068|           186.0|\n",
            "|           Stapleton|         15|    75.22574761802912|            15.0|\n",
            "|           Bay Ridge|       2132|      73.858054205506|           289.0|\n",
            "|            Rosedale|        256|    71.48530721581099|            62.0|\n",
            "+--------------------+-----------+---------------------+----------------+\n",
            "\n",
            "+--------------------+-----------+---------------------+----------------+\n",
            "|           zone_name|total_trips|average_profitability|total_passengers|\n",
            "+--------------------+-----------+---------------------+----------------+\n",
            "|Upper East Side S...|     749215|     7.63455343885513|       1037367.0|\n",
            "|Upper East Side N...|     704371|    8.839806190981518|        975535.0|\n",
            "|      Midtown Center|     474160|    7.375739609814177|        656996.0|\n",
            "|Penn Station/Madi...|     464961|    8.155738187542173|        642642.0|\n",
            "|Upper West Side S...|     451048|    7.447587585125748|        636591.0|\n",
            "| Lincoln Square East|     453312|    8.789427794102219|        635902.0|\n",
            "|     Lenox Hill West|     444636|   6.8301007888454315|        614478.0|\n",
            "|         Murray Hill|     446683|   7.7410714721550455|        612601.0|\n",
            "|        Midtown East|     424232|    8.541049404209726|        581892.0|\n",
            "|            Union Sq|     381578|    12.86245091660277|        532751.0|\n",
            "+--------------------+-----------+---------------------+----------------+\n",
            "\n"
          ]
        }
      ],
      "source": [
        "# Displaying results\n",
        "top10_trips.show()\n",
        "top10_profit.show()\n",
        "top10_passenger.show()"
      ]
    },
    {
      "cell_type": "markdown",
      "metadata": {
        "id": "H7qu5XnFmewN"
      },
      "source": [
        "**Results in Pandas Dataframe**"
      ]
    },
    {
      "cell_type": "code",
      "execution_count": 27,
      "metadata": {
        "colab": {
          "base_uri": "https://localhost:8080/",
          "height": 363
        },
        "id": "PJF5gXCG9Ekr",
        "outputId": "09adfef3-59dd-4fc8-8f4c-965b54f1dafb"
      },
      "outputs": [
        {
          "output_type": "execute_result",
          "data": {
            "text/plain": [
              "                      zone_name  total_trips  average_profitability  \\\n",
              "0         Upper East Side South       749215               7.634553   \n",
              "1         Upper East Side North       704371               8.839806   \n",
              "2                Midtown Center       474160               7.375740   \n",
              "3  Penn Station/Madison Sq West       464961               8.155738   \n",
              "4           Lincoln Square East       453312               8.789428   \n",
              "5         Upper West Side South       451048               7.447588   \n",
              "6                   Murray Hill       446683               7.741071   \n",
              "7               Lenox Hill West       444636               6.830101   \n",
              "8                  Midtown East       424232               8.541049   \n",
              "9                      Union Sq       381578              12.862451   \n",
              "\n",
              "   total_passengers  \n",
              "0         1037367.0  \n",
              "1          975535.0  \n",
              "2          656996.0  \n",
              "3          642642.0  \n",
              "4          635902.0  \n",
              "5          636591.0  \n",
              "6          612601.0  \n",
              "7          614478.0  \n",
              "8          581892.0  \n",
              "9          532751.0  "
            ],
            "text/html": [
              "\n",
              "  <div id=\"df-e36be759-1076-437d-9fd8-746b6e7dc5f4\" class=\"colab-df-container\">\n",
              "    <div>\n",
              "<style scoped>\n",
              "    .dataframe tbody tr th:only-of-type {\n",
              "        vertical-align: middle;\n",
              "    }\n",
              "\n",
              "    .dataframe tbody tr th {\n",
              "        vertical-align: top;\n",
              "    }\n",
              "\n",
              "    .dataframe thead th {\n",
              "        text-align: right;\n",
              "    }\n",
              "</style>\n",
              "<table border=\"1\" class=\"dataframe\">\n",
              "  <thead>\n",
              "    <tr style=\"text-align: right;\">\n",
              "      <th></th>\n",
              "      <th>zone_name</th>\n",
              "      <th>total_trips</th>\n",
              "      <th>average_profitability</th>\n",
              "      <th>total_passengers</th>\n",
              "    </tr>\n",
              "  </thead>\n",
              "  <tbody>\n",
              "    <tr>\n",
              "      <th>0</th>\n",
              "      <td>Upper East Side South</td>\n",
              "      <td>749215</td>\n",
              "      <td>7.634553</td>\n",
              "      <td>1037367.0</td>\n",
              "    </tr>\n",
              "    <tr>\n",
              "      <th>1</th>\n",
              "      <td>Upper East Side North</td>\n",
              "      <td>704371</td>\n",
              "      <td>8.839806</td>\n",
              "      <td>975535.0</td>\n",
              "    </tr>\n",
              "    <tr>\n",
              "      <th>2</th>\n",
              "      <td>Midtown Center</td>\n",
              "      <td>474160</td>\n",
              "      <td>7.375740</td>\n",
              "      <td>656996.0</td>\n",
              "    </tr>\n",
              "    <tr>\n",
              "      <th>3</th>\n",
              "      <td>Penn Station/Madison Sq West</td>\n",
              "      <td>464961</td>\n",
              "      <td>8.155738</td>\n",
              "      <td>642642.0</td>\n",
              "    </tr>\n",
              "    <tr>\n",
              "      <th>4</th>\n",
              "      <td>Lincoln Square East</td>\n",
              "      <td>453312</td>\n",
              "      <td>8.789428</td>\n",
              "      <td>635902.0</td>\n",
              "    </tr>\n",
              "    <tr>\n",
              "      <th>5</th>\n",
              "      <td>Upper West Side South</td>\n",
              "      <td>451048</td>\n",
              "      <td>7.447588</td>\n",
              "      <td>636591.0</td>\n",
              "    </tr>\n",
              "    <tr>\n",
              "      <th>6</th>\n",
              "      <td>Murray Hill</td>\n",
              "      <td>446683</td>\n",
              "      <td>7.741071</td>\n",
              "      <td>612601.0</td>\n",
              "    </tr>\n",
              "    <tr>\n",
              "      <th>7</th>\n",
              "      <td>Lenox Hill West</td>\n",
              "      <td>444636</td>\n",
              "      <td>6.830101</td>\n",
              "      <td>614478.0</td>\n",
              "    </tr>\n",
              "    <tr>\n",
              "      <th>8</th>\n",
              "      <td>Midtown East</td>\n",
              "      <td>424232</td>\n",
              "      <td>8.541049</td>\n",
              "      <td>581892.0</td>\n",
              "    </tr>\n",
              "    <tr>\n",
              "      <th>9</th>\n",
              "      <td>Union Sq</td>\n",
              "      <td>381578</td>\n",
              "      <td>12.862451</td>\n",
              "      <td>532751.0</td>\n",
              "    </tr>\n",
              "  </tbody>\n",
              "</table>\n",
              "</div>\n",
              "    <div class=\"colab-df-buttons\">\n",
              "\n",
              "  <div class=\"colab-df-container\">\n",
              "    <button class=\"colab-df-convert\" onclick=\"convertToInteractive('df-e36be759-1076-437d-9fd8-746b6e7dc5f4')\"\n",
              "            title=\"Convert this dataframe to an interactive table.\"\n",
              "            style=\"display:none;\">\n",
              "\n",
              "  <svg xmlns=\"http://www.w3.org/2000/svg\" height=\"24px\" viewBox=\"0 -960 960 960\">\n",
              "    <path d=\"M120-120v-720h720v720H120Zm60-500h600v-160H180v160Zm220 220h160v-160H400v160Zm0 220h160v-160H400v160ZM180-400h160v-160H180v160Zm440 0h160v-160H620v160ZM180-180h160v-160H180v160Zm440 0h160v-160H620v160Z\"/>\n",
              "  </svg>\n",
              "    </button>\n",
              "\n",
              "  <style>\n",
              "    .colab-df-container {\n",
              "      display:flex;\n",
              "      gap: 12px;\n",
              "    }\n",
              "\n",
              "    .colab-df-convert {\n",
              "      background-color: #E8F0FE;\n",
              "      border: none;\n",
              "      border-radius: 50%;\n",
              "      cursor: pointer;\n",
              "      display: none;\n",
              "      fill: #1967D2;\n",
              "      height: 32px;\n",
              "      padding: 0 0 0 0;\n",
              "      width: 32px;\n",
              "    }\n",
              "\n",
              "    .colab-df-convert:hover {\n",
              "      background-color: #E2EBFA;\n",
              "      box-shadow: 0px 1px 2px rgba(60, 64, 67, 0.3), 0px 1px 3px 1px rgba(60, 64, 67, 0.15);\n",
              "      fill: #174EA6;\n",
              "    }\n",
              "\n",
              "    .colab-df-buttons div {\n",
              "      margin-bottom: 4px;\n",
              "    }\n",
              "\n",
              "    [theme=dark] .colab-df-convert {\n",
              "      background-color: #3B4455;\n",
              "      fill: #D2E3FC;\n",
              "    }\n",
              "\n",
              "    [theme=dark] .colab-df-convert:hover {\n",
              "      background-color: #434B5C;\n",
              "      box-shadow: 0px 1px 3px 1px rgba(0, 0, 0, 0.15);\n",
              "      filter: drop-shadow(0px 1px 2px rgba(0, 0, 0, 0.3));\n",
              "      fill: #FFFFFF;\n",
              "    }\n",
              "  </style>\n",
              "\n",
              "    <script>\n",
              "      const buttonEl =\n",
              "        document.querySelector('#df-e36be759-1076-437d-9fd8-746b6e7dc5f4 button.colab-df-convert');\n",
              "      buttonEl.style.display =\n",
              "        google.colab.kernel.accessAllowed ? 'block' : 'none';\n",
              "\n",
              "      async function convertToInteractive(key) {\n",
              "        const element = document.querySelector('#df-e36be759-1076-437d-9fd8-746b6e7dc5f4');\n",
              "        const dataTable =\n",
              "          await google.colab.kernel.invokeFunction('convertToInteractive',\n",
              "                                                    [key], {});\n",
              "        if (!dataTable) return;\n",
              "\n",
              "        const docLinkHtml = 'Like what you see? Visit the ' +\n",
              "          '<a target=\"_blank\" href=https://colab.research.google.com/notebooks/data_table.ipynb>data table notebook</a>'\n",
              "          + ' to learn more about interactive tables.';\n",
              "        element.innerHTML = '';\n",
              "        dataTable['output_type'] = 'display_data';\n",
              "        await google.colab.output.renderOutput(dataTable, element);\n",
              "        const docLink = document.createElement('div');\n",
              "        docLink.innerHTML = docLinkHtml;\n",
              "        element.appendChild(docLink);\n",
              "      }\n",
              "    </script>\n",
              "  </div>\n",
              "\n",
              "\n",
              "<div id=\"df-165821c7-3e2f-48dd-8840-6e29b39963d2\">\n",
              "  <button class=\"colab-df-quickchart\" onclick=\"quickchart('df-165821c7-3e2f-48dd-8840-6e29b39963d2')\"\n",
              "            title=\"Suggest charts\"\n",
              "            style=\"display:none;\">\n",
              "\n",
              "<svg xmlns=\"http://www.w3.org/2000/svg\" height=\"24px\"viewBox=\"0 0 24 24\"\n",
              "     width=\"24px\">\n",
              "    <g>\n",
              "        <path d=\"M19 3H5c-1.1 0-2 .9-2 2v14c0 1.1.9 2 2 2h14c1.1 0 2-.9 2-2V5c0-1.1-.9-2-2-2zM9 17H7v-7h2v7zm4 0h-2V7h2v10zm4 0h-2v-4h2v4z\"/>\n",
              "    </g>\n",
              "</svg>\n",
              "  </button>\n",
              "\n",
              "<style>\n",
              "  .colab-df-quickchart {\n",
              "      --bg-color: #E8F0FE;\n",
              "      --fill-color: #1967D2;\n",
              "      --hover-bg-color: #E2EBFA;\n",
              "      --hover-fill-color: #174EA6;\n",
              "      --disabled-fill-color: #AAA;\n",
              "      --disabled-bg-color: #DDD;\n",
              "  }\n",
              "\n",
              "  [theme=dark] .colab-df-quickchart {\n",
              "      --bg-color: #3B4455;\n",
              "      --fill-color: #D2E3FC;\n",
              "      --hover-bg-color: #434B5C;\n",
              "      --hover-fill-color: #FFFFFF;\n",
              "      --disabled-bg-color: #3B4455;\n",
              "      --disabled-fill-color: #666;\n",
              "  }\n",
              "\n",
              "  .colab-df-quickchart {\n",
              "    background-color: var(--bg-color);\n",
              "    border: none;\n",
              "    border-radius: 50%;\n",
              "    cursor: pointer;\n",
              "    display: none;\n",
              "    fill: var(--fill-color);\n",
              "    height: 32px;\n",
              "    padding: 0;\n",
              "    width: 32px;\n",
              "  }\n",
              "\n",
              "  .colab-df-quickchart:hover {\n",
              "    background-color: var(--hover-bg-color);\n",
              "    box-shadow: 0 1px 2px rgba(60, 64, 67, 0.3), 0 1px 3px 1px rgba(60, 64, 67, 0.15);\n",
              "    fill: var(--button-hover-fill-color);\n",
              "  }\n",
              "\n",
              "  .colab-df-quickchart-complete:disabled,\n",
              "  .colab-df-quickchart-complete:disabled:hover {\n",
              "    background-color: var(--disabled-bg-color);\n",
              "    fill: var(--disabled-fill-color);\n",
              "    box-shadow: none;\n",
              "  }\n",
              "\n",
              "  .colab-df-spinner {\n",
              "    border: 2px solid var(--fill-color);\n",
              "    border-color: transparent;\n",
              "    border-bottom-color: var(--fill-color);\n",
              "    animation:\n",
              "      spin 1s steps(1) infinite;\n",
              "  }\n",
              "\n",
              "  @keyframes spin {\n",
              "    0% {\n",
              "      border-color: transparent;\n",
              "      border-bottom-color: var(--fill-color);\n",
              "      border-left-color: var(--fill-color);\n",
              "    }\n",
              "    20% {\n",
              "      border-color: transparent;\n",
              "      border-left-color: var(--fill-color);\n",
              "      border-top-color: var(--fill-color);\n",
              "    }\n",
              "    30% {\n",
              "      border-color: transparent;\n",
              "      border-left-color: var(--fill-color);\n",
              "      border-top-color: var(--fill-color);\n",
              "      border-right-color: var(--fill-color);\n",
              "    }\n",
              "    40% {\n",
              "      border-color: transparent;\n",
              "      border-right-color: var(--fill-color);\n",
              "      border-top-color: var(--fill-color);\n",
              "    }\n",
              "    60% {\n",
              "      border-color: transparent;\n",
              "      border-right-color: var(--fill-color);\n",
              "    }\n",
              "    80% {\n",
              "      border-color: transparent;\n",
              "      border-right-color: var(--fill-color);\n",
              "      border-bottom-color: var(--fill-color);\n",
              "    }\n",
              "    90% {\n",
              "      border-color: transparent;\n",
              "      border-bottom-color: var(--fill-color);\n",
              "    }\n",
              "  }\n",
              "</style>\n",
              "\n",
              "  <script>\n",
              "    async function quickchart(key) {\n",
              "      const quickchartButtonEl =\n",
              "        document.querySelector('#' + key + ' button');\n",
              "      quickchartButtonEl.disabled = true;  // To prevent multiple clicks.\n",
              "      quickchartButtonEl.classList.add('colab-df-spinner');\n",
              "      try {\n",
              "        const charts = await google.colab.kernel.invokeFunction(\n",
              "            'suggestCharts', [key], {});\n",
              "      } catch (error) {\n",
              "        console.error('Error during call to suggestCharts:', error);\n",
              "      }\n",
              "      quickchartButtonEl.classList.remove('colab-df-spinner');\n",
              "      quickchartButtonEl.classList.add('colab-df-quickchart-complete');\n",
              "    }\n",
              "    (() => {\n",
              "      let quickchartButtonEl =\n",
              "        document.querySelector('#df-165821c7-3e2f-48dd-8840-6e29b39963d2 button');\n",
              "      quickchartButtonEl.style.display =\n",
              "        google.colab.kernel.accessAllowed ? 'block' : 'none';\n",
              "    })();\n",
              "  </script>\n",
              "</div>\n",
              "\n",
              "    </div>\n",
              "  </div>\n"
            ],
            "application/vnd.google.colaboratory.intrinsic+json": {
              "type": "dataframe",
              "summary": "{\n  \"name\": \"top10_trips\",\n  \"rows\": 10,\n  \"fields\": [\n    {\n      \"column\": \"zone_name\",\n      \"properties\": {\n        \"dtype\": \"string\",\n        \"num_unique_values\": 10,\n        \"samples\": [\n          \"Midtown East\",\n          \"Upper East Side North\",\n          \"Upper West Side South\"\n        ],\n        \"semantic_type\": \"\",\n        \"description\": \"\"\n      }\n    },\n    {\n      \"column\": \"total_trips\",\n      \"properties\": {\n        \"dtype\": \"number\",\n        \"std\": 122934,\n        \"min\": 381578,\n        \"max\": 749215,\n        \"num_unique_values\": 10,\n        \"samples\": [\n          424232,\n          704371,\n          451048\n        ],\n        \"semantic_type\": \"\",\n        \"description\": \"\"\n      }\n    },\n    {\n      \"column\": \"average_profitability\",\n      \"properties\": {\n        \"dtype\": \"number\",\n        \"std\": 1.6922784195806269,\n        \"min\": 6.8301007888454315,\n        \"max\": 12.86245091660277,\n        \"num_unique_values\": 10,\n        \"samples\": [\n          8.541049404209726,\n          8.839806190981518,\n          7.447587585125748\n        ],\n        \"semantic_type\": \"\",\n        \"description\": \"\"\n      }\n    },\n    {\n      \"column\": \"total_passengers\",\n      \"properties\": {\n        \"dtype\": \"number\",\n        \"std\": 169752.24113280835,\n        \"min\": 532751.0,\n        \"max\": 1037367.0,\n        \"num_unique_values\": 10,\n        \"samples\": [\n          581892.0,\n          975535.0,\n          636591.0\n        ],\n        \"semantic_type\": \"\",\n        \"description\": \"\"\n      }\n    }\n  ]\n}"
            }
          },
          "metadata": {},
          "execution_count": 27
        }
      ],
      "source": [
        "top10_trips.toPandas()\n"
      ]
    },
    {
      "cell_type": "code",
      "execution_count": 28,
      "metadata": {
        "colab": {
          "base_uri": "https://localhost:8080/",
          "height": 363
        },
        "id": "euoGkzQFBGag",
        "outputId": "dc3db2a3-0f4b-4116-eccd-4e91d612c764"
      },
      "outputs": [
        {
          "output_type": "execute_result",
          "data": {
            "text/plain": [
              "                 zone_name  total_trips  average_profitability  \\\n",
              "0          Mariners Harbor           11             170.001967   \n",
              "1  Bay Terrace/Fort Totten          284             169.962872   \n",
              "2            East Flushing          182             116.012159   \n",
              "3        Rossville/Woodrow            3             111.562500   \n",
              "4           Newark Airport           29              94.133266   \n",
              "5            West Brighton            4              87.371203   \n",
              "6          Jamaica Estates         1451              79.792172   \n",
              "7                Stapleton           15              75.225748   \n",
              "8                Bay Ridge         2132              73.858054   \n",
              "9                 Rosedale          256              71.485307   \n",
              "\n",
              "   total_passengers  \n",
              "0               3.0  \n",
              "1              36.0  \n",
              "2              21.0  \n",
              "3               1.0  \n",
              "4              43.0  \n",
              "5               6.0  \n",
              "6             186.0  \n",
              "7              15.0  \n",
              "8             289.0  \n",
              "9              62.0  "
            ],
            "text/html": [
              "\n",
              "  <div id=\"df-99f0b524-f1b1-46e7-846b-a538096104ce\" class=\"colab-df-container\">\n",
              "    <div>\n",
              "<style scoped>\n",
              "    .dataframe tbody tr th:only-of-type {\n",
              "        vertical-align: middle;\n",
              "    }\n",
              "\n",
              "    .dataframe tbody tr th {\n",
              "        vertical-align: top;\n",
              "    }\n",
              "\n",
              "    .dataframe thead th {\n",
              "        text-align: right;\n",
              "    }\n",
              "</style>\n",
              "<table border=\"1\" class=\"dataframe\">\n",
              "  <thead>\n",
              "    <tr style=\"text-align: right;\">\n",
              "      <th></th>\n",
              "      <th>zone_name</th>\n",
              "      <th>total_trips</th>\n",
              "      <th>average_profitability</th>\n",
              "      <th>total_passengers</th>\n",
              "    </tr>\n",
              "  </thead>\n",
              "  <tbody>\n",
              "    <tr>\n",
              "      <th>0</th>\n",
              "      <td>Mariners Harbor</td>\n",
              "      <td>11</td>\n",
              "      <td>170.001967</td>\n",
              "      <td>3.0</td>\n",
              "    </tr>\n",
              "    <tr>\n",
              "      <th>1</th>\n",
              "      <td>Bay Terrace/Fort Totten</td>\n",
              "      <td>284</td>\n",
              "      <td>169.962872</td>\n",
              "      <td>36.0</td>\n",
              "    </tr>\n",
              "    <tr>\n",
              "      <th>2</th>\n",
              "      <td>East Flushing</td>\n",
              "      <td>182</td>\n",
              "      <td>116.012159</td>\n",
              "      <td>21.0</td>\n",
              "    </tr>\n",
              "    <tr>\n",
              "      <th>3</th>\n",
              "      <td>Rossville/Woodrow</td>\n",
              "      <td>3</td>\n",
              "      <td>111.562500</td>\n",
              "      <td>1.0</td>\n",
              "    </tr>\n",
              "    <tr>\n",
              "      <th>4</th>\n",
              "      <td>Newark Airport</td>\n",
              "      <td>29</td>\n",
              "      <td>94.133266</td>\n",
              "      <td>43.0</td>\n",
              "    </tr>\n",
              "    <tr>\n",
              "      <th>5</th>\n",
              "      <td>West Brighton</td>\n",
              "      <td>4</td>\n",
              "      <td>87.371203</td>\n",
              "      <td>6.0</td>\n",
              "    </tr>\n",
              "    <tr>\n",
              "      <th>6</th>\n",
              "      <td>Jamaica Estates</td>\n",
              "      <td>1451</td>\n",
              "      <td>79.792172</td>\n",
              "      <td>186.0</td>\n",
              "    </tr>\n",
              "    <tr>\n",
              "      <th>7</th>\n",
              "      <td>Stapleton</td>\n",
              "      <td>15</td>\n",
              "      <td>75.225748</td>\n",
              "      <td>15.0</td>\n",
              "    </tr>\n",
              "    <tr>\n",
              "      <th>8</th>\n",
              "      <td>Bay Ridge</td>\n",
              "      <td>2132</td>\n",
              "      <td>73.858054</td>\n",
              "      <td>289.0</td>\n",
              "    </tr>\n",
              "    <tr>\n",
              "      <th>9</th>\n",
              "      <td>Rosedale</td>\n",
              "      <td>256</td>\n",
              "      <td>71.485307</td>\n",
              "      <td>62.0</td>\n",
              "    </tr>\n",
              "  </tbody>\n",
              "</table>\n",
              "</div>\n",
              "    <div class=\"colab-df-buttons\">\n",
              "\n",
              "  <div class=\"colab-df-container\">\n",
              "    <button class=\"colab-df-convert\" onclick=\"convertToInteractive('df-99f0b524-f1b1-46e7-846b-a538096104ce')\"\n",
              "            title=\"Convert this dataframe to an interactive table.\"\n",
              "            style=\"display:none;\">\n",
              "\n",
              "  <svg xmlns=\"http://www.w3.org/2000/svg\" height=\"24px\" viewBox=\"0 -960 960 960\">\n",
              "    <path d=\"M120-120v-720h720v720H120Zm60-500h600v-160H180v160Zm220 220h160v-160H400v160Zm0 220h160v-160H400v160ZM180-400h160v-160H180v160Zm440 0h160v-160H620v160ZM180-180h160v-160H180v160Zm440 0h160v-160H620v160Z\"/>\n",
              "  </svg>\n",
              "    </button>\n",
              "\n",
              "  <style>\n",
              "    .colab-df-container {\n",
              "      display:flex;\n",
              "      gap: 12px;\n",
              "    }\n",
              "\n",
              "    .colab-df-convert {\n",
              "      background-color: #E8F0FE;\n",
              "      border: none;\n",
              "      border-radius: 50%;\n",
              "      cursor: pointer;\n",
              "      display: none;\n",
              "      fill: #1967D2;\n",
              "      height: 32px;\n",
              "      padding: 0 0 0 0;\n",
              "      width: 32px;\n",
              "    }\n",
              "\n",
              "    .colab-df-convert:hover {\n",
              "      background-color: #E2EBFA;\n",
              "      box-shadow: 0px 1px 2px rgba(60, 64, 67, 0.3), 0px 1px 3px 1px rgba(60, 64, 67, 0.15);\n",
              "      fill: #174EA6;\n",
              "    }\n",
              "\n",
              "    .colab-df-buttons div {\n",
              "      margin-bottom: 4px;\n",
              "    }\n",
              "\n",
              "    [theme=dark] .colab-df-convert {\n",
              "      background-color: #3B4455;\n",
              "      fill: #D2E3FC;\n",
              "    }\n",
              "\n",
              "    [theme=dark] .colab-df-convert:hover {\n",
              "      background-color: #434B5C;\n",
              "      box-shadow: 0px 1px 3px 1px rgba(0, 0, 0, 0.15);\n",
              "      filter: drop-shadow(0px 1px 2px rgba(0, 0, 0, 0.3));\n",
              "      fill: #FFFFFF;\n",
              "    }\n",
              "  </style>\n",
              "\n",
              "    <script>\n",
              "      const buttonEl =\n",
              "        document.querySelector('#df-99f0b524-f1b1-46e7-846b-a538096104ce button.colab-df-convert');\n",
              "      buttonEl.style.display =\n",
              "        google.colab.kernel.accessAllowed ? 'block' : 'none';\n",
              "\n",
              "      async function convertToInteractive(key) {\n",
              "        const element = document.querySelector('#df-99f0b524-f1b1-46e7-846b-a538096104ce');\n",
              "        const dataTable =\n",
              "          await google.colab.kernel.invokeFunction('convertToInteractive',\n",
              "                                                    [key], {});\n",
              "        if (!dataTable) return;\n",
              "\n",
              "        const docLinkHtml = 'Like what you see? Visit the ' +\n",
              "          '<a target=\"_blank\" href=https://colab.research.google.com/notebooks/data_table.ipynb>data table notebook</a>'\n",
              "          + ' to learn more about interactive tables.';\n",
              "        element.innerHTML = '';\n",
              "        dataTable['output_type'] = 'display_data';\n",
              "        await google.colab.output.renderOutput(dataTable, element);\n",
              "        const docLink = document.createElement('div');\n",
              "        docLink.innerHTML = docLinkHtml;\n",
              "        element.appendChild(docLink);\n",
              "      }\n",
              "    </script>\n",
              "  </div>\n",
              "\n",
              "\n",
              "<div id=\"df-5b13184d-ba07-4d99-ba8a-a5a22431deeb\">\n",
              "  <button class=\"colab-df-quickchart\" onclick=\"quickchart('df-5b13184d-ba07-4d99-ba8a-a5a22431deeb')\"\n",
              "            title=\"Suggest charts\"\n",
              "            style=\"display:none;\">\n",
              "\n",
              "<svg xmlns=\"http://www.w3.org/2000/svg\" height=\"24px\"viewBox=\"0 0 24 24\"\n",
              "     width=\"24px\">\n",
              "    <g>\n",
              "        <path d=\"M19 3H5c-1.1 0-2 .9-2 2v14c0 1.1.9 2 2 2h14c1.1 0 2-.9 2-2V5c0-1.1-.9-2-2-2zM9 17H7v-7h2v7zm4 0h-2V7h2v10zm4 0h-2v-4h2v4z\"/>\n",
              "    </g>\n",
              "</svg>\n",
              "  </button>\n",
              "\n",
              "<style>\n",
              "  .colab-df-quickchart {\n",
              "      --bg-color: #E8F0FE;\n",
              "      --fill-color: #1967D2;\n",
              "      --hover-bg-color: #E2EBFA;\n",
              "      --hover-fill-color: #174EA6;\n",
              "      --disabled-fill-color: #AAA;\n",
              "      --disabled-bg-color: #DDD;\n",
              "  }\n",
              "\n",
              "  [theme=dark] .colab-df-quickchart {\n",
              "      --bg-color: #3B4455;\n",
              "      --fill-color: #D2E3FC;\n",
              "      --hover-bg-color: #434B5C;\n",
              "      --hover-fill-color: #FFFFFF;\n",
              "      --disabled-bg-color: #3B4455;\n",
              "      --disabled-fill-color: #666;\n",
              "  }\n",
              "\n",
              "  .colab-df-quickchart {\n",
              "    background-color: var(--bg-color);\n",
              "    border: none;\n",
              "    border-radius: 50%;\n",
              "    cursor: pointer;\n",
              "    display: none;\n",
              "    fill: var(--fill-color);\n",
              "    height: 32px;\n",
              "    padding: 0;\n",
              "    width: 32px;\n",
              "  }\n",
              "\n",
              "  .colab-df-quickchart:hover {\n",
              "    background-color: var(--hover-bg-color);\n",
              "    box-shadow: 0 1px 2px rgba(60, 64, 67, 0.3), 0 1px 3px 1px rgba(60, 64, 67, 0.15);\n",
              "    fill: var(--button-hover-fill-color);\n",
              "  }\n",
              "\n",
              "  .colab-df-quickchart-complete:disabled,\n",
              "  .colab-df-quickchart-complete:disabled:hover {\n",
              "    background-color: var(--disabled-bg-color);\n",
              "    fill: var(--disabled-fill-color);\n",
              "    box-shadow: none;\n",
              "  }\n",
              "\n",
              "  .colab-df-spinner {\n",
              "    border: 2px solid var(--fill-color);\n",
              "    border-color: transparent;\n",
              "    border-bottom-color: var(--fill-color);\n",
              "    animation:\n",
              "      spin 1s steps(1) infinite;\n",
              "  }\n",
              "\n",
              "  @keyframes spin {\n",
              "    0% {\n",
              "      border-color: transparent;\n",
              "      border-bottom-color: var(--fill-color);\n",
              "      border-left-color: var(--fill-color);\n",
              "    }\n",
              "    20% {\n",
              "      border-color: transparent;\n",
              "      border-left-color: var(--fill-color);\n",
              "      border-top-color: var(--fill-color);\n",
              "    }\n",
              "    30% {\n",
              "      border-color: transparent;\n",
              "      border-left-color: var(--fill-color);\n",
              "      border-top-color: var(--fill-color);\n",
              "      border-right-color: var(--fill-color);\n",
              "    }\n",
              "    40% {\n",
              "      border-color: transparent;\n",
              "      border-right-color: var(--fill-color);\n",
              "      border-top-color: var(--fill-color);\n",
              "    }\n",
              "    60% {\n",
              "      border-color: transparent;\n",
              "      border-right-color: var(--fill-color);\n",
              "    }\n",
              "    80% {\n",
              "      border-color: transparent;\n",
              "      border-right-color: var(--fill-color);\n",
              "      border-bottom-color: var(--fill-color);\n",
              "    }\n",
              "    90% {\n",
              "      border-color: transparent;\n",
              "      border-bottom-color: var(--fill-color);\n",
              "    }\n",
              "  }\n",
              "</style>\n",
              "\n",
              "  <script>\n",
              "    async function quickchart(key) {\n",
              "      const quickchartButtonEl =\n",
              "        document.querySelector('#' + key + ' button');\n",
              "      quickchartButtonEl.disabled = true;  // To prevent multiple clicks.\n",
              "      quickchartButtonEl.classList.add('colab-df-spinner');\n",
              "      try {\n",
              "        const charts = await google.colab.kernel.invokeFunction(\n",
              "            'suggestCharts', [key], {});\n",
              "      } catch (error) {\n",
              "        console.error('Error during call to suggestCharts:', error);\n",
              "      }\n",
              "      quickchartButtonEl.classList.remove('colab-df-spinner');\n",
              "      quickchartButtonEl.classList.add('colab-df-quickchart-complete');\n",
              "    }\n",
              "    (() => {\n",
              "      let quickchartButtonEl =\n",
              "        document.querySelector('#df-5b13184d-ba07-4d99-ba8a-a5a22431deeb button');\n",
              "      quickchartButtonEl.style.display =\n",
              "        google.colab.kernel.accessAllowed ? 'block' : 'none';\n",
              "    })();\n",
              "  </script>\n",
              "</div>\n",
              "\n",
              "    </div>\n",
              "  </div>\n"
            ],
            "application/vnd.google.colaboratory.intrinsic+json": {
              "type": "dataframe",
              "summary": "{\n  \"name\": \"top10_profit\",\n  \"rows\": 10,\n  \"fields\": [\n    {\n      \"column\": \"zone_name\",\n      \"properties\": {\n        \"dtype\": \"string\",\n        \"num_unique_values\": 10,\n        \"samples\": [\n          \"Bay Ridge\",\n          \"Bay Terrace/Fort Totten\",\n          \"West Brighton\"\n        ],\n        \"semantic_type\": \"\",\n        \"description\": \"\"\n      }\n    },\n    {\n      \"column\": \"total_trips\",\n      \"properties\": {\n        \"dtype\": \"number\",\n        \"std\": 739,\n        \"min\": 3,\n        \"max\": 2132,\n        \"num_unique_values\": 10,\n        \"samples\": [\n          2132,\n          284,\n          4\n        ],\n        \"semantic_type\": \"\",\n        \"description\": \"\"\n      }\n    },\n    {\n      \"column\": \"average_profitability\",\n      \"properties\": {\n        \"dtype\": \"number\",\n        \"std\": 37.496052593961764,\n        \"min\": 71.48530721581099,\n        \"max\": 170.0019671325217,\n        \"num_unique_values\": 10,\n        \"samples\": [\n          73.858054205506,\n          169.96287173378553,\n          87.37120340543028\n        ],\n        \"semantic_type\": \"\",\n        \"description\": \"\"\n      }\n    },\n    {\n      \"column\": \"total_passengers\",\n      \"properties\": {\n        \"dtype\": \"number\",\n        \"std\": 95.44841538757991,\n        \"min\": 1.0,\n        \"max\": 289.0,\n        \"num_unique_values\": 10,\n        \"samples\": [\n          289.0,\n          36.0,\n          6.0\n        ],\n        \"semantic_type\": \"\",\n        \"description\": \"\"\n      }\n    }\n  ]\n}"
            }
          },
          "metadata": {},
          "execution_count": 28
        }
      ],
      "source": [
        "top10_profit.toPandas()\n"
      ]
    },
    {
      "cell_type": "code",
      "execution_count": 29,
      "metadata": {
        "colab": {
          "base_uri": "https://localhost:8080/",
          "height": 363
        },
        "id": "KvDH-_ZiJZJN",
        "outputId": "7dd586ad-f72d-4686-e89b-5f84ebadde95"
      },
      "outputs": [
        {
          "output_type": "execute_result",
          "data": {
            "text/plain": [
              "                      zone_name  total_trips  average_profitability  \\\n",
              "0         Upper East Side South       749215               7.634553   \n",
              "1         Upper East Side North       704371               8.839806   \n",
              "2                Midtown Center       474160               7.375740   \n",
              "3  Penn Station/Madison Sq West       464961               8.155738   \n",
              "4         Upper West Side South       451048               7.447588   \n",
              "5           Lincoln Square East       453312               8.789428   \n",
              "6               Lenox Hill West       444636               6.830101   \n",
              "7                   Murray Hill       446683               7.741071   \n",
              "8                  Midtown East       424232               8.541049   \n",
              "9                      Union Sq       381578              12.862451   \n",
              "\n",
              "   total_passengers  \n",
              "0         1037367.0  \n",
              "1          975535.0  \n",
              "2          656996.0  \n",
              "3          642642.0  \n",
              "4          636591.0  \n",
              "5          635902.0  \n",
              "6          614478.0  \n",
              "7          612601.0  \n",
              "8          581892.0  \n",
              "9          532751.0  "
            ],
            "text/html": [
              "\n",
              "  <div id=\"df-e92d7155-73af-4da7-a523-660a7bac52db\" class=\"colab-df-container\">\n",
              "    <div>\n",
              "<style scoped>\n",
              "    .dataframe tbody tr th:only-of-type {\n",
              "        vertical-align: middle;\n",
              "    }\n",
              "\n",
              "    .dataframe tbody tr th {\n",
              "        vertical-align: top;\n",
              "    }\n",
              "\n",
              "    .dataframe thead th {\n",
              "        text-align: right;\n",
              "    }\n",
              "</style>\n",
              "<table border=\"1\" class=\"dataframe\">\n",
              "  <thead>\n",
              "    <tr style=\"text-align: right;\">\n",
              "      <th></th>\n",
              "      <th>zone_name</th>\n",
              "      <th>total_trips</th>\n",
              "      <th>average_profitability</th>\n",
              "      <th>total_passengers</th>\n",
              "    </tr>\n",
              "  </thead>\n",
              "  <tbody>\n",
              "    <tr>\n",
              "      <th>0</th>\n",
              "      <td>Upper East Side South</td>\n",
              "      <td>749215</td>\n",
              "      <td>7.634553</td>\n",
              "      <td>1037367.0</td>\n",
              "    </tr>\n",
              "    <tr>\n",
              "      <th>1</th>\n",
              "      <td>Upper East Side North</td>\n",
              "      <td>704371</td>\n",
              "      <td>8.839806</td>\n",
              "      <td>975535.0</td>\n",
              "    </tr>\n",
              "    <tr>\n",
              "      <th>2</th>\n",
              "      <td>Midtown Center</td>\n",
              "      <td>474160</td>\n",
              "      <td>7.375740</td>\n",
              "      <td>656996.0</td>\n",
              "    </tr>\n",
              "    <tr>\n",
              "      <th>3</th>\n",
              "      <td>Penn Station/Madison Sq West</td>\n",
              "      <td>464961</td>\n",
              "      <td>8.155738</td>\n",
              "      <td>642642.0</td>\n",
              "    </tr>\n",
              "    <tr>\n",
              "      <th>4</th>\n",
              "      <td>Upper West Side South</td>\n",
              "      <td>451048</td>\n",
              "      <td>7.447588</td>\n",
              "      <td>636591.0</td>\n",
              "    </tr>\n",
              "    <tr>\n",
              "      <th>5</th>\n",
              "      <td>Lincoln Square East</td>\n",
              "      <td>453312</td>\n",
              "      <td>8.789428</td>\n",
              "      <td>635902.0</td>\n",
              "    </tr>\n",
              "    <tr>\n",
              "      <th>6</th>\n",
              "      <td>Lenox Hill West</td>\n",
              "      <td>444636</td>\n",
              "      <td>6.830101</td>\n",
              "      <td>614478.0</td>\n",
              "    </tr>\n",
              "    <tr>\n",
              "      <th>7</th>\n",
              "      <td>Murray Hill</td>\n",
              "      <td>446683</td>\n",
              "      <td>7.741071</td>\n",
              "      <td>612601.0</td>\n",
              "    </tr>\n",
              "    <tr>\n",
              "      <th>8</th>\n",
              "      <td>Midtown East</td>\n",
              "      <td>424232</td>\n",
              "      <td>8.541049</td>\n",
              "      <td>581892.0</td>\n",
              "    </tr>\n",
              "    <tr>\n",
              "      <th>9</th>\n",
              "      <td>Union Sq</td>\n",
              "      <td>381578</td>\n",
              "      <td>12.862451</td>\n",
              "      <td>532751.0</td>\n",
              "    </tr>\n",
              "  </tbody>\n",
              "</table>\n",
              "</div>\n",
              "    <div class=\"colab-df-buttons\">\n",
              "\n",
              "  <div class=\"colab-df-container\">\n",
              "    <button class=\"colab-df-convert\" onclick=\"convertToInteractive('df-e92d7155-73af-4da7-a523-660a7bac52db')\"\n",
              "            title=\"Convert this dataframe to an interactive table.\"\n",
              "            style=\"display:none;\">\n",
              "\n",
              "  <svg xmlns=\"http://www.w3.org/2000/svg\" height=\"24px\" viewBox=\"0 -960 960 960\">\n",
              "    <path d=\"M120-120v-720h720v720H120Zm60-500h600v-160H180v160Zm220 220h160v-160H400v160Zm0 220h160v-160H400v160ZM180-400h160v-160H180v160Zm440 0h160v-160H620v160ZM180-180h160v-160H180v160Zm440 0h160v-160H620v160Z\"/>\n",
              "  </svg>\n",
              "    </button>\n",
              "\n",
              "  <style>\n",
              "    .colab-df-container {\n",
              "      display:flex;\n",
              "      gap: 12px;\n",
              "    }\n",
              "\n",
              "    .colab-df-convert {\n",
              "      background-color: #E8F0FE;\n",
              "      border: none;\n",
              "      border-radius: 50%;\n",
              "      cursor: pointer;\n",
              "      display: none;\n",
              "      fill: #1967D2;\n",
              "      height: 32px;\n",
              "      padding: 0 0 0 0;\n",
              "      width: 32px;\n",
              "    }\n",
              "\n",
              "    .colab-df-convert:hover {\n",
              "      background-color: #E2EBFA;\n",
              "      box-shadow: 0px 1px 2px rgba(60, 64, 67, 0.3), 0px 1px 3px 1px rgba(60, 64, 67, 0.15);\n",
              "      fill: #174EA6;\n",
              "    }\n",
              "\n",
              "    .colab-df-buttons div {\n",
              "      margin-bottom: 4px;\n",
              "    }\n",
              "\n",
              "    [theme=dark] .colab-df-convert {\n",
              "      background-color: #3B4455;\n",
              "      fill: #D2E3FC;\n",
              "    }\n",
              "\n",
              "    [theme=dark] .colab-df-convert:hover {\n",
              "      background-color: #434B5C;\n",
              "      box-shadow: 0px 1px 3px 1px rgba(0, 0, 0, 0.15);\n",
              "      filter: drop-shadow(0px 1px 2px rgba(0, 0, 0, 0.3));\n",
              "      fill: #FFFFFF;\n",
              "    }\n",
              "  </style>\n",
              "\n",
              "    <script>\n",
              "      const buttonEl =\n",
              "        document.querySelector('#df-e92d7155-73af-4da7-a523-660a7bac52db button.colab-df-convert');\n",
              "      buttonEl.style.display =\n",
              "        google.colab.kernel.accessAllowed ? 'block' : 'none';\n",
              "\n",
              "      async function convertToInteractive(key) {\n",
              "        const element = document.querySelector('#df-e92d7155-73af-4da7-a523-660a7bac52db');\n",
              "        const dataTable =\n",
              "          await google.colab.kernel.invokeFunction('convertToInteractive',\n",
              "                                                    [key], {});\n",
              "        if (!dataTable) return;\n",
              "\n",
              "        const docLinkHtml = 'Like what you see? Visit the ' +\n",
              "          '<a target=\"_blank\" href=https://colab.research.google.com/notebooks/data_table.ipynb>data table notebook</a>'\n",
              "          + ' to learn more about interactive tables.';\n",
              "        element.innerHTML = '';\n",
              "        dataTable['output_type'] = 'display_data';\n",
              "        await google.colab.output.renderOutput(dataTable, element);\n",
              "        const docLink = document.createElement('div');\n",
              "        docLink.innerHTML = docLinkHtml;\n",
              "        element.appendChild(docLink);\n",
              "      }\n",
              "    </script>\n",
              "  </div>\n",
              "\n",
              "\n",
              "<div id=\"df-12faec11-bae9-4a2e-ab7f-1e11a7f8bab2\">\n",
              "  <button class=\"colab-df-quickchart\" onclick=\"quickchart('df-12faec11-bae9-4a2e-ab7f-1e11a7f8bab2')\"\n",
              "            title=\"Suggest charts\"\n",
              "            style=\"display:none;\">\n",
              "\n",
              "<svg xmlns=\"http://www.w3.org/2000/svg\" height=\"24px\"viewBox=\"0 0 24 24\"\n",
              "     width=\"24px\">\n",
              "    <g>\n",
              "        <path d=\"M19 3H5c-1.1 0-2 .9-2 2v14c0 1.1.9 2 2 2h14c1.1 0 2-.9 2-2V5c0-1.1-.9-2-2-2zM9 17H7v-7h2v7zm4 0h-2V7h2v10zm4 0h-2v-4h2v4z\"/>\n",
              "    </g>\n",
              "</svg>\n",
              "  </button>\n",
              "\n",
              "<style>\n",
              "  .colab-df-quickchart {\n",
              "      --bg-color: #E8F0FE;\n",
              "      --fill-color: #1967D2;\n",
              "      --hover-bg-color: #E2EBFA;\n",
              "      --hover-fill-color: #174EA6;\n",
              "      --disabled-fill-color: #AAA;\n",
              "      --disabled-bg-color: #DDD;\n",
              "  }\n",
              "\n",
              "  [theme=dark] .colab-df-quickchart {\n",
              "      --bg-color: #3B4455;\n",
              "      --fill-color: #D2E3FC;\n",
              "      --hover-bg-color: #434B5C;\n",
              "      --hover-fill-color: #FFFFFF;\n",
              "      --disabled-bg-color: #3B4455;\n",
              "      --disabled-fill-color: #666;\n",
              "  }\n",
              "\n",
              "  .colab-df-quickchart {\n",
              "    background-color: var(--bg-color);\n",
              "    border: none;\n",
              "    border-radius: 50%;\n",
              "    cursor: pointer;\n",
              "    display: none;\n",
              "    fill: var(--fill-color);\n",
              "    height: 32px;\n",
              "    padding: 0;\n",
              "    width: 32px;\n",
              "  }\n",
              "\n",
              "  .colab-df-quickchart:hover {\n",
              "    background-color: var(--hover-bg-color);\n",
              "    box-shadow: 0 1px 2px rgba(60, 64, 67, 0.3), 0 1px 3px 1px rgba(60, 64, 67, 0.15);\n",
              "    fill: var(--button-hover-fill-color);\n",
              "  }\n",
              "\n",
              "  .colab-df-quickchart-complete:disabled,\n",
              "  .colab-df-quickchart-complete:disabled:hover {\n",
              "    background-color: var(--disabled-bg-color);\n",
              "    fill: var(--disabled-fill-color);\n",
              "    box-shadow: none;\n",
              "  }\n",
              "\n",
              "  .colab-df-spinner {\n",
              "    border: 2px solid var(--fill-color);\n",
              "    border-color: transparent;\n",
              "    border-bottom-color: var(--fill-color);\n",
              "    animation:\n",
              "      spin 1s steps(1) infinite;\n",
              "  }\n",
              "\n",
              "  @keyframes spin {\n",
              "    0% {\n",
              "      border-color: transparent;\n",
              "      border-bottom-color: var(--fill-color);\n",
              "      border-left-color: var(--fill-color);\n",
              "    }\n",
              "    20% {\n",
              "      border-color: transparent;\n",
              "      border-left-color: var(--fill-color);\n",
              "      border-top-color: var(--fill-color);\n",
              "    }\n",
              "    30% {\n",
              "      border-color: transparent;\n",
              "      border-left-color: var(--fill-color);\n",
              "      border-top-color: var(--fill-color);\n",
              "      border-right-color: var(--fill-color);\n",
              "    }\n",
              "    40% {\n",
              "      border-color: transparent;\n",
              "      border-right-color: var(--fill-color);\n",
              "      border-top-color: var(--fill-color);\n",
              "    }\n",
              "    60% {\n",
              "      border-color: transparent;\n",
              "      border-right-color: var(--fill-color);\n",
              "    }\n",
              "    80% {\n",
              "      border-color: transparent;\n",
              "      border-right-color: var(--fill-color);\n",
              "      border-bottom-color: var(--fill-color);\n",
              "    }\n",
              "    90% {\n",
              "      border-color: transparent;\n",
              "      border-bottom-color: var(--fill-color);\n",
              "    }\n",
              "  }\n",
              "</style>\n",
              "\n",
              "  <script>\n",
              "    async function quickchart(key) {\n",
              "      const quickchartButtonEl =\n",
              "        document.querySelector('#' + key + ' button');\n",
              "      quickchartButtonEl.disabled = true;  // To prevent multiple clicks.\n",
              "      quickchartButtonEl.classList.add('colab-df-spinner');\n",
              "      try {\n",
              "        const charts = await google.colab.kernel.invokeFunction(\n",
              "            'suggestCharts', [key], {});\n",
              "      } catch (error) {\n",
              "        console.error('Error during call to suggestCharts:', error);\n",
              "      }\n",
              "      quickchartButtonEl.classList.remove('colab-df-spinner');\n",
              "      quickchartButtonEl.classList.add('colab-df-quickchart-complete');\n",
              "    }\n",
              "    (() => {\n",
              "      let quickchartButtonEl =\n",
              "        document.querySelector('#df-12faec11-bae9-4a2e-ab7f-1e11a7f8bab2 button');\n",
              "      quickchartButtonEl.style.display =\n",
              "        google.colab.kernel.accessAllowed ? 'block' : 'none';\n",
              "    })();\n",
              "  </script>\n",
              "</div>\n",
              "\n",
              "    </div>\n",
              "  </div>\n"
            ],
            "application/vnd.google.colaboratory.intrinsic+json": {
              "type": "dataframe",
              "summary": "{\n  \"name\": \"top10_passenger\",\n  \"rows\": 10,\n  \"fields\": [\n    {\n      \"column\": \"zone_name\",\n      \"properties\": {\n        \"dtype\": \"string\",\n        \"num_unique_values\": 10,\n        \"samples\": [\n          \"Midtown East\",\n          \"Upper East Side North\",\n          \"Lincoln Square East\"\n        ],\n        \"semantic_type\": \"\",\n        \"description\": \"\"\n      }\n    },\n    {\n      \"column\": \"total_trips\",\n      \"properties\": {\n        \"dtype\": \"number\",\n        \"std\": 122934,\n        \"min\": 381578,\n        \"max\": 749215,\n        \"num_unique_values\": 10,\n        \"samples\": [\n          424232,\n          704371,\n          453312\n        ],\n        \"semantic_type\": \"\",\n        \"description\": \"\"\n      }\n    },\n    {\n      \"column\": \"average_profitability\",\n      \"properties\": {\n        \"dtype\": \"number\",\n        \"std\": 1.6922784195806269,\n        \"min\": 6.8301007888454315,\n        \"max\": 12.86245091660277,\n        \"num_unique_values\": 10,\n        \"samples\": [\n          8.541049404209726,\n          8.839806190981518,\n          8.789427794102219\n        ],\n        \"semantic_type\": \"\",\n        \"description\": \"\"\n      }\n    },\n    {\n      \"column\": \"total_passengers\",\n      \"properties\": {\n        \"dtype\": \"number\",\n        \"std\": 169752.24113280835,\n        \"min\": 532751.0,\n        \"max\": 1037367.0,\n        \"num_unique_values\": 10,\n        \"samples\": [\n          581892.0,\n          975535.0,\n          635902.0\n        ],\n        \"semantic_type\": \"\",\n        \"description\": \"\"\n      }\n    }\n  ]\n}"
            }
          },
          "metadata": {},
          "execution_count": 29
        }
      ],
      "source": [
        "top10_passenger.toPandas()"
      ]
    },
    {
      "cell_type": "markdown",
      "metadata": {
        "id": "Fwol2bRactJB"
      },
      "source": [
        "## Task 4 - Record the pipeline's execution time\n",
        "\n",
        "Record the execution time of:\n",
        "\n",
        "1. the whole pipeline\n",
        "2. the whole pipeline except task 1.2\n",
        "\n",
        "on the two tables below, for all dataset sizes: `'S'`, `'M'`, `'L'`, `'XL'`, `'XXL'`.\n",
        "\n",
        "Analyse the resulting execution times and comment on the effect of dataset size, dataset format and task complexity (with and without task 1.2) on pipeline performance."
      ]
    },
    {
      "cell_type": "markdown",
      "source": [
        "**The Soltion For Task 4**"
      ],
      "metadata": {
        "id": "IFWNYXhP8fA8"
      }
    },
    {
      "cell_type": "markdown",
      "metadata": {
        "id": "A_iXhCOBpRyl"
      },
      "source": [
        "**Evaluating the Execution Time Perfomance of Each Dataset**"
      ]
    },
    {
      "cell_type": "markdown",
      "source": [
        "Dataset ~ S Only"
      ],
      "metadata": {
        "id": "dROIOALw5fCE"
      }
    },
    {
      "cell_type": "code",
      "execution_count": 32,
      "metadata": {
        "colab": {
          "base_uri": "https://localhost:8080/"
        },
        "id": "svp2G_Vlf55c",
        "outputId": "8a8f2a1f-d55d-4f35-bb3a-ed4f4e89691a"
      },
      "outputs": [
        {
          "output_type": "stream",
          "name": "stdout",
          "text": [
            "\n",
            "    Trips dataset loaded!\n",
            "    ---\n",
            "      Size: S\n",
            "      Tables loaded: ['/content/drive/MyDrive/CSC8101_Data/tripdata_2021_07.parquet']\n",
            "      Number of trips (dataset rows): 2,898,033\n",
            "    \n",
            "The Execution Time With Task 1.2 : 26.93 seconds\n",
            "sec / 1M records: 9.291648 seconds\n",
            "\n",
            "    Trips dataset loaded!\n",
            "    ---\n",
            "      Size: S\n",
            "      Tables loaded: ['/content/drive/MyDrive/CSC8101_Data/tripdata_2021_07.parquet']\n",
            "      Number of trips (dataset rows): 2,898,033\n",
            "    \n",
            "The Execution Time Without Task 1.2: 16.03 seconds\n",
            "sec / 1M records (w/o 1.2): 5.531096 seconds\n"
          ]
        }
      ],
      "source": [
        "import time\n",
        "\n",
        "# Measuring Execution time of Dataset 'S'\n",
        "\n",
        "SIZE = 'S'\n",
        "WITH_TASK_12 = True\n",
        "trips = init_trips(SIZE)\n",
        "\n",
        "start_time = time.time()  # Start time for measuring execution\n",
        "\n",
        "# Pipeline with Task 1.2 Enabled\n",
        "pipeline_results = pipeline(trips, with_task_12=WITH_TASK_12)\n",
        "\n",
        "# Collect Results\n",
        "for result in pipeline_results:\n",
        "    result.collect()\n",
        "end_time = time.time()  # End time for measuring execution\n",
        "\n",
        "execution_time_with_task = end_time - start_time #Time Taken\n",
        "\n",
        "num_records = trips.count()\n",
        "\n",
        "# Calculating the execution time per million records\n",
        "execution_time_per_million_with_task = (execution_time_with_task / num_records) * 1_000_000\n",
        "\n",
        "print(f\"The Execution Time With Task 1.2 : {execution_time_with_task:.2f} seconds\")\n",
        "print(f\"sec / 1M records: {execution_time_per_million_with_task:.6f} seconds\")\n",
        "\n",
        "# Recording execution time WITHOUT Task 1.2\n",
        "WITH_TASK_12 = False\n",
        "trips = init_trips(SIZE)  # Reinitialize trips with the same size\n",
        "\n",
        "# Measuring execution time\n",
        "start_time = time.time()\n",
        "pipeline_results = pipeline(trips, with_task_12=WITH_TASK_12)\n",
        "\n",
        "# Collecting results\n",
        "for result in pipeline_results:\n",
        "    result.collect()\n",
        "end_time = time.time()\n",
        "execution_time_without_task = end_time - start_time\n",
        "\n",
        "# Calculating the execution time per million records\n",
        "execution_time_per_million_without_task = (execution_time_without_task / num_records) * 1_000_000\n",
        "\n",
        "print(f\"The Execution Time Without Task 1.2: {execution_time_without_task:.2f} seconds\")\n",
        "print(f\"sec / 1M records (w/o 1.2): {execution_time_per_million_without_task:.6f} seconds\")\n"
      ]
    },
    {
      "cell_type": "markdown",
      "source": [
        "Dataset ~ M Only"
      ],
      "metadata": {
        "id": "g13hyhiJItJY"
      }
    },
    {
      "cell_type": "code",
      "source": [
        "import time\n",
        "\n",
        "# Measuring Execution time of Dataset 'M'\n",
        "\n",
        "SIZE = 'M'\n",
        "WITH_TASK_12 = True\n",
        "trips = init_trips(SIZE)\n",
        "\n",
        "start_time = time.time()  # Start time for measuring execution\n",
        "\n",
        "# Pipeline with Task 1.2 Enabled\n",
        "pipeline_results = pipeline(trips, with_task_12=WITH_TASK_12)\n",
        "\n",
        "# Collect Results\n",
        "for result in pipeline_results:\n",
        "    result.collect()\n",
        "end_time = time.time()  # End time for measuring execution\n",
        "\n",
        "execution_time_with_task = end_time - start_time #Time Taken\n",
        "\n",
        "num_records = trips.count()\n",
        "\n",
        "# Calculating the execution time per million records\n",
        "execution_time_per_million_with_task = (execution_time_with_task / num_records) * 1_000_000\n",
        "\n",
        "print(f\"The Execution Time With Task 1.2 : {execution_time_with_task:.2f} seconds\")\n",
        "print(f\"sec / 1M records: {execution_time_per_million_with_task:.6f} seconds\")\n",
        "\n",
        "# Recording execution time WITHOUT Task 1.2\n",
        "WITH_TASK_12 = False\n",
        "trips = init_trips(SIZE)  # Reinitialize trips with the same size\n",
        "\n",
        "# Measuring execution time\n",
        "start_time = time.time()\n",
        "pipeline_results = pipeline(trips, with_task_12=WITH_TASK_12)\n",
        "\n",
        "# Collecting results\n",
        "for result in pipeline_results:\n",
        "    result.collect()\n",
        "end_time = time.time()\n",
        "execution_time_without_task = end_time - start_time\n",
        "\n",
        "# Calculating the execution time per million records\n",
        "execution_time_per_million_without_task = (execution_time_without_task / num_records) * 1_000_000\n",
        "\n",
        "print(f\"The Execution Time Without Task 1.2: {execution_time_without_task:.2f} seconds\")\n",
        "print(f\"sec / 1M records (w/o 1.2): {execution_time_per_million_without_task:.6f} seconds\")\n"
      ],
      "metadata": {
        "id": "Dmq9ZWzyIgzz"
      },
      "execution_count": null,
      "outputs": []
    },
    {
      "cell_type": "markdown",
      "metadata": {
        "id": "QKm63LS4ctJB"
      },
      "source": [
        "_Table 1. Pipeline performance for `parquet` format._\n",
        "\n",
        "| metric                      | S    | M    | L    | XL   | XXL  |\n",
        "|-----------------------------|------|------|------|------|------|\n",
        "| rows (M)                    | 2,898,033 |  000 |  000 |  000 |  000 |\n",
        "| execution time   (w/o 1.2)  | 16.03 | 0.00 | 0.00 | 0.00 | 0.00 |\n",
        "| execution time              | 26.93 | 0.00 | 0.00 | 0.00 | 0.00 |\n",
        "| sec / 1M records (w/o 1.2)  | 5.531096  | 0.0  | 0.0  | 0.0  | 0.0  |\n",
        "| sec / 1M records            | 9.291648  | 0.0  | 0.0  | 0.0  | 0.0  |"
      ]
    }
  ],
  "metadata": {
    "application/vnd.databricks.v1+notebook": {
      "dashboards": [],
      "language": "python",
      "notebookMetadata": {
        "pythonIndentUnit": 4
      },
      "notebookName": "CSC8101-spark-coursework",
      "notebookOrigID": 3034227906566903,
      "widgets": {}
    },
    "colab": {
      "collapsed_sections": [
        "ZjXKIdU-ctI9"
      ],
      "toc_visible": true,
      "provenance": []
    },
    "kernelspec": {
      "display_name": "Python 3",
      "name": "python3"
    },
    "language_info": {
      "name": "python"
    }
  },
  "nbformat": 4,
  "nbformat_minor": 0
}